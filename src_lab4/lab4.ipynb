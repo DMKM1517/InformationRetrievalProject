{
 "cells": [
  {
   "cell_type": "markdown",
   "metadata": {},
   "source": [
    "## Lab  4\n",
    "## Network metrics."
   ]
  },
  {
   "cell_type": "code",
   "execution_count": 1,
   "metadata": {
    "collapsed": true
   },
   "outputs": [],
   "source": [
    "from networkx import *\n",
    "import matplotlib.pyplot as plt\n",
    "import numpy as np\n",
    "\n",
    "%matplotlib inline"
   ]
  },
  {
   "cell_type": "markdown",
   "metadata": {},
   "source": [
    "## Erdos-Renyi model"
   ]
  },
  {
   "cell_type": "code",
   "execution_count": 2,
   "metadata": {
    "collapsed": false,
    "scrolled": true
   },
   "outputs": [],
   "source": [
    "# list of number of nodes\n",
    "n = [10,20,50,100,300,500,1000,2000]\n",
    "\n",
    "# epsilon (chosen)\n",
    "eps = 0.8\n",
    "\n",
    "# calculating the treshold probabilities, with which the graph is most likely connected\n",
    "tr = []\n",
    "for num in n:\n",
    "    t = ((1 + eps) * np.log(num)) / num\n",
    "    tr.append(t)"
   ]
  },
  {
   "cell_type": "code",
   "execution_count": 3,
   "metadata": {
    "collapsed": false
   },
   "outputs": [
    {
     "name": "stdout",
     "output_type": "stream",
     "text": [
      "('Number of nodes = ', 10)\n",
      "('Average shortest path = ', 1.6444444444444444)\n",
      "__________\n",
      "('Number of nodes = ', 20)\n",
      "('Average shortest path = ', 1.931578947368421)\n",
      "__________\n",
      "('Number of nodes = ', 50)\n",
      "('Average shortest path = ', 2.1689795918367345)\n",
      "__________\n",
      "('Number of nodes = ', 100)\n",
      "('Average shortest path = ', 2.4616161616161616)\n",
      "__________\n",
      "('Number of nodes = ', 300)\n",
      "('Average shortest path = ', 2.6732664437012263)\n",
      "__________\n",
      "('Number of nodes = ', 500)\n",
      "('Average shortest path = ', 2.780857715430862)\n",
      "__________\n",
      "('Number of nodes = ', 1000)\n",
      "('Average shortest path = ', 2.931323323323323)\n",
      "__________\n",
      "('Number of nodes = ', 2000)\n",
      "('Average shortest path = ', 3.0394592296148075)\n",
      "__________\n"
     ]
    }
   ],
   "source": [
    "# calculating the shortest paths for the vector of number of nodes\n",
    "sp = []\n",
    "\n",
    "for i in range(len(n)):\n",
    "    eg = fast_gnp_random_graph(n[i], tr[i]+0.001) #treshhold probability and a bit more - for it to be surely connected\n",
    "    print(\"Number of nodes = \",n[i])\n",
    "    print(\"Average shortest path = \", average_shortest_path_length(eg))\n",
    "    print(\"__________\")\n",
    "    sp.append(average_shortest_path_length(eg))"
   ]
  },
  {
   "cell_type": "code",
   "execution_count": 4,
   "metadata": {
    "collapsed": false,
    "scrolled": true
   },
   "outputs": [
    {
     "data": {
      "image/png": "[encoded data removed]",
      "text/plain": [
       "<matplotlib.figure.Figure at 0x5f777f0>"
      ]
     },
     "metadata": {},
     "output_type": "display_data"
    }
   ],
   "source": [
    "plt.plot(n,sp, '-o')\n",
    "plt.xlabel('Number of nodes')\n",
    "plt.ylabel('Agv. shortest path')\n",
    "plt.title('Erdos-Renyi model')\n",
    "\n",
    "plt.show()"
   ]
  },
  {
   "cell_type": "markdown",
   "metadata": {},
   "source": [
    "## Watts-Strogatz model"
   ]
  },
  {
   "cell_type": "code",
   "execution_count": 5,
   "metadata": {
    "collapsed": false
   },
   "outputs": [],
   "source": [
    "# setting a vector of rewiring probabilities and a fixed number of nodes\n",
    "\n",
    "prob = [0.00001,0.0001,0.0005,0.001,0.003,0.005,0.01,0.025,0.05,0.1,0.25,0.5,0.8,1]\n",
    "nodes = 600"
   ]
  },
  {
   "cell_type": "code",
   "execution_count": 6,
   "metadata": {
    "collapsed": false
   },
   "outputs": [],
   "source": [
    "# calculating normalization variables\n",
    "\n",
    "g_null = watts_strogatz_graph(nodes, 5, 0)\n",
    "norm_clust = average_clustering(g_null)\n",
    "norm_sp = average_shortest_path_length(g_null)"
   ]
  },
  {
   "cell_type": "code",
   "execution_count": 7,
   "metadata": {
    "collapsed": false
   },
   "outputs": [
    {
     "name": "stdout",
     "output_type": "stream",
     "text": [
      "(0, '/', 13)\n",
      "('Rewiring probability = ', 1e-05)\n",
      "('Average clustering = ', 1.0)\n",
      "('Average shortest path = ', 1.0)\n",
      "___________\n",
      "(1, '/', 13)\n",
      "('Rewiring probability = ', 0.0001)\n",
      "('Average clustering = ', 0.9987777777777778)\n",
      "('Average shortest path = ', 0.9129614617940199)\n",
      "___________\n",
      "(2, '/', 13)\n",
      "('Rewiring probability = ', 0.0005)\n",
      "('Average clustering = ', 1.0)\n",
      "('Average shortest path = ', 1.0)\n",
      "___________\n",
      "(3, '/', 13)\n",
      "('Rewiring probability = ', 0.001)\n",
      "('Average clustering = ', 0.9941111111111112)\n",
      "('Average shortest path = ', 0.5610787006275378)\n",
      "___________\n",
      "(4, '/', 13)\n",
      "('Rewiring probability = ', 0.003)\n",
      "('Average clustering = ', 1.0)\n",
      "('Average shortest path = ', 1.0)\n",
      "___________\n",
      "(5, '/', 13)\n",
      "('Rewiring probability = ', 0.005)\n",
      "('Average clustering = ', 0.9941111111111112)\n",
      "('Average shortest path = ', 0.5362458471760797)\n",
      "___________\n",
      "(6, '/', 13)\n",
      "('Rewiring probability = ', 0.01)\n",
      "('Average clustering = ', 0.9652222222222225)\n",
      "('Average shortest path = ', 0.29741631598375784)\n",
      "___________\n",
      "(7, '/', 13)\n",
      "('Rewiring probability = ', 0.025)\n",
      "('Average clustering = ', 0.9231111111111113)\n",
      "('Average shortest path = ', 0.17931465485418974)\n",
      "___________\n",
      "(8, '/', 13)\n",
      "('Rewiring probability = ', 0.05)\n",
      "('Average clustering = ', 0.8498888888888901)\n",
      "('Average shortest path = ', 0.13363698781838315)\n",
      "___________\n",
      "(9, '/', 13)\n",
      "('Rewiring probability = ', 0.1)\n",
      "('Average clustering = ', 0.7359206349206354)\n",
      "('Average shortest path = ', 0.10363573274270949)\n",
      "___________\n",
      "(10, '/', 13)\n",
      "('Rewiring probability = ', 0.25)\n",
      "('Average clustering = ', 0.4363650793650793)\n",
      "('Average shortest path = ', 0.07792410483573274)\n",
      "___________\n",
      "(11, '/', 13)\n",
      "('Rewiring probability = ', 0.5)\n",
      "('Average clustering = ', 0.12986507936507952)\n",
      "('Average shortest path = ', 0.06813621262458472)\n",
      "___________\n",
      "(12, '/', 13)\n",
      "('Rewiring probability = ', 0.8)\n",
      "('Average clustering = ', 0.023992063492063485)\n",
      "('Average shortest path = ', 0.06542554448135844)\n",
      "___________\n",
      "(13, '/', 13)\n",
      "('Rewiring probability = ', 1)\n",
      "('Average clustering = ', 0.011529100529100531)\n",
      "('Average shortest path = ', 0.06482089331856775)\n",
      "___________\n"
     ]
    }
   ],
   "source": [
    "# calculating vectors of clustering coefficients and shortest paths for\n",
    "# each of the probabilities\n",
    "\n",
    "clust = []\n",
    "sp = []\n",
    "\n",
    "for i in range(len(prob)):\n",
    "    g = watts_strogatz_graph(nodes, 5, prob[i])\n",
    "    clust.append(average_clustering(g)/norm_clust)\n",
    "    sp.append(average_shortest_path_length(g)/norm_sp)\n",
    "    \n",
    "    print(i, \"/\", len(prob)-1)\n",
    "    print(\"Rewiring probability = \", prob[i])\n",
    "    print(\"Average clustering = \", average_clustering(g)/norm_clust)\n",
    "    print(\"Average shortest path = \", average_shortest_path_length(g)/norm_sp)\n",
    "    print(\"___________\")\n"
   ]
  },
  {
   "cell_type": "code",
   "execution_count": 8,
   "metadata": {
    "collapsed": false
   },
   "outputs": [
    {
     "data": {
      "image/png": "[encoded data removed]",
      "text/plain": [
       "<matplotlib.figure.Figure at 0x4a21780>"
      ]
     },
     "metadata": {},
     "output_type": "display_data"
    }
   ],
   "source": [
    "# making a pretty plot\n",
    "\n",
    "pl1, = plt.plot(prob,clust, 'd')\n",
    "pl2, = plt.plot(prob,sp, 'p', label='l')\n",
    "plt.legend([pl1, pl2], ['Clustering coefficient','Shortest path'], loc='lower left')\n",
    "plt.xlabel('p')\n",
    "plt.title('Watts-Strogatz model')\n",
    "plt.xscale('log')\n",
    "plt.show()"
   ]
  },
  {
   "cell_type": "code",
   "execution_count": null,
   "metadata": {
    "collapsed": true
   },
   "outputs": [],
   "source": []
  }
 ],
 "metadata": {
  "anaconda-cloud": {},
  "kernelspec": {
   "display_name": "Python [default]",
   "language": "python",
   "name": "python2"
  },
  "language_info": {
   "codemirror_mode": {
    "name": "ipython",
    "version": 2
   },
   "file_extension": ".py",
   "mimetype": "text/x-python",
   "name": "python",
   "nbconvert_exporter": "python",
   "pygments_lexer": "ipython2",
   "version": "2.7.12"
  }
 },
 "nbformat": 4,
 "nbformat_minor": 0
}
