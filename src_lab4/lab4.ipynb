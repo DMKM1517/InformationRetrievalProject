{
 "cells": [
  {
   "cell_type": "markdown",
   "metadata": {},
   "source": [
    "## Lab  4\n",
    "## Network metrics"
   ]
  },
  {
   "cell_type": "code",
   "execution_count": 1,
   "metadata": {
    "collapsed": true
   },
   "outputs": [],
   "source": [
    "import networkx as nx\n",
    "import matplotlib.pyplot as plt\n",
    "import numpy as np\n",
    "\n",
    "%matplotlib inline"
   ]
  },
  {
   "cell_type": "markdown",
   "metadata": {},
   "source": [
    "## Erdos-Renyi model"
   ]
  },
  {
   "cell_type": "code",
   "execution_count": 2,
   "metadata": {
    "collapsed": false,
    "scrolled": true
   },
   "outputs": [],
   "source": [
    "# list of number of nodes\n",
    "n_er = [5, 10, 30, 50, 100, 300, 500, 1000, 2000, 5000, 11000]#, 150000, 300000, 500000, 1100000]\n",
    "\n",
    "# epsilon (chosen)\n",
    "eps = 0.8\n",
    "\n",
    "# calculating the treshold probabilities, with which the graph is most likely connected\n",
    "tr = []\n",
    "for num in n_er:\n",
    "    t = ((1 + eps) * np.log(num)) / num\n",
    "    tr.append(t)"
   ]
  },
  {
   "cell_type": "code",
   "execution_count": 3,
   "metadata": {
    "collapsed": false
   },
   "outputs": [
    {
     "name": "stdout",
     "output_type": "stream",
     "text": [
      "Number of nodes = 5\n",
      "Average shortest path = 1.6\n",
      "__________\n",
      "Number of nodes = 10\n",
      "Average shortest path = 1.73333333333\n",
      "__________\n",
      "Number of nodes = 30\n",
      "Average shortest path = 2.03908045977\n",
      "__________\n",
      "Number of nodes = 50\n",
      "Average shortest path = 2.25632653061\n",
      "__________\n",
      "Number of nodes = 100\n",
      "Average shortest path = 2.43555555556\n",
      "__________\n",
      "Number of nodes = 300\n",
      "Average shortest path = 2.74289855072\n",
      "__________\n",
      "Number of nodes = 500\n",
      "Average shortest path = 2.82993186373\n",
      "__________\n",
      "Number of nodes = 1000\n",
      "Average shortest path = 2.99774974975\n",
      "__________\n",
      "Number of nodes = 2000\n",
      "Average shortest path = 3.17184342171\n",
      "__________\n",
      "Number of nodes = 5000\n",
      "Average shortest path = 3.43105725145\n",
      "__________\n",
      "Number of nodes = 11000\n",
      "Average shortest path = 3.61930320938\n",
      "__________\n"
     ]
    }
   ],
   "source": [
    "# calculating the shortest paths for the vector of number of nodes\n",
    "sp_er = []\n",
    "\n",
    "for i in range(len(n_er)):\n",
    "    eg = nx.fast_gnp_random_graph(n_er[i], tr[i]+0.0000001) #treshhold probability and a bit more - for it to be surely connected\n",
    "    avg_path = nx.average_shortest_path_length(eg)\n",
    "    \n",
    "    print(\"Number of nodes = \" + str(n_er[i]))\n",
    "    print(\"Average shortest path = \" + str(avg_path))\n",
    "    print(\"__________\")\n",
    "    sp_er.append(avg_path)"
   ]
  },
  {
   "cell_type": "code",
   "execution_count": 4,
   "metadata": {
    "collapsed": false,
    "scrolled": true
   },
   "outputs": [
    {
     "data": {
      "image/png": "[encoded data removed]",
      "text/plain": [
       "<matplotlib.figure.Figure at 0x8e14978>"
      ]
     },
     "metadata": {},
     "output_type": "display_data"
    }
   ],
   "source": [
    "plt.plot(n_er, sp_er, '-o')\n",
    "plt.xlabel('Number of nodes')\n",
    "plt.ylabel('Agv. shortest path')\n",
    "\n",
    "plt.show()"
   ]
  },
  {
   "cell_type": "markdown",
   "metadata": {},
   "source": [
    "## Watts-Strogatz model"
   ]
  },
  {
   "cell_type": "code",
   "execution_count": 5,
   "metadata": {
    "collapsed": false
   },
   "outputs": [],
   "source": [
    "# setting a vector of rewiring probabilities and a fixed number of nodes\n",
    "\n",
    "prob_ws = [0.00001,0.0001,0.0005,0.001,0.003,0.005,0.01,0.025,0.05,0.1,0.25,0.5,0.8,1]\n",
    "nodes = 600"
   ]
  },
  {
   "cell_type": "code",
   "execution_count": 6,
   "metadata": {
    "collapsed": false
   },
   "outputs": [],
   "source": [
    "# calculating normalization variables\n",
    "\n",
    "g_null = nx.watts_strogatz_graph(nodes, 5, 0)\n",
    "norm_clust = nx.average_clustering(g_null)\n",
    "norm_sp = nx.average_shortest_path_length(g_null)"
   ]
  },
  {
   "cell_type": "code",
   "execution_count": 7,
   "metadata": {
    "collapsed": false
   },
   "outputs": [
    {
     "name": "stdout",
     "output_type": "stream",
     "text": [
      "0/13\n",
      "Rewiring probability = 1e-05\n",
      "Average clustering = 1.0\n",
      "Average shortest path = 1.0\n",
      "___________\n",
      "1/13\n",
      "Rewiring probability = 0.0001\n",
      "Average clustering = 1.0\n",
      "Average shortest path = 1.0\n",
      "___________\n",
      "2/13\n",
      "Rewiring probability = 0.0005\n",
      "Average clustering = 0.996555555556\n",
      "Average shortest path = 0.758739387228\n",
      "___________\n",
      "3/13\n",
      "Rewiring probability = 0.001\n",
      "Average clustering = 0.990666666667\n",
      "Average shortest path = 0.600502473237\n",
      "___________\n",
      "4/13\n",
      "Rewiring probability = 0.003\n",
      "Average clustering = 0.997555555556\n",
      "Average shortest path = 0.610998375784\n",
      "___________\n",
      "5/13\n",
      "Rewiring probability = 0.005\n",
      "Average clustering = 0.993111111111\n",
      "Average shortest path = 0.616712070875\n",
      "___________\n",
      "6/13\n",
      "Rewiring probability = 0.01\n",
      "Average clustering = 0.983777777778\n",
      "Average shortest path = 0.468217940199\n",
      "___________\n",
      "7/13\n",
      "Rewiring probability = 0.025\n",
      "Average clustering = 0.904444444444\n",
      "Average shortest path = 0.172359616094\n",
      "___________\n",
      "8/13\n",
      "Rewiring probability = 0.05\n",
      "Average clustering = 0.846111111111\n",
      "Average shortest path = 0.134026282761\n",
      "___________\n",
      "9/13\n",
      "Rewiring probability = 0.1\n",
      "Average clustering = 0.750333333333\n",
      "Average shortest path = 0.106256183093\n",
      "___________\n",
      "10/13\n",
      "Rewiring probability = 0.25\n",
      "Average clustering = 0.456619047619\n",
      "Average shortest path = 0.0794079734219\n",
      "___________\n",
      "11/13\n",
      "Rewiring probability = 0.5\n",
      "Average clustering = 0.146513227513\n",
      "Average shortest path = 0.0681751199705\n",
      "___________\n",
      "12/13\n",
      "Rewiring probability = 0.8\n",
      "Average clustering = 0.0236058201058\n",
      "Average shortest path = 0.0653811000369\n",
      "___________\n",
      "13/13\n",
      "Rewiring probability = 1\n",
      "Average clustering = 0.0155793650794\n",
      "Average shortest path = 0.06518464378\n",
      "___________\n"
     ]
    }
   ],
   "source": [
    "# calculating vectors of clustering coefficients and shortest paths for\n",
    "# each of the probabilities\n",
    "\n",
    "clust = []\n",
    "sp_ws = []\n",
    "\n",
    "for i in range(len(prob_ws)):\n",
    "    g = nx.watts_strogatz_graph(nodes, 5, prob_ws[i])\n",
    "    avg_clust = nx.average_clustering(g)\n",
    "    avg_short_lenght = nx.average_shortest_path_length(g)\n",
    "    \n",
    "    clust.append(avg_clust/norm_clust)\n",
    "    sp_ws.append(avg_short_lenght/norm_sp)\n",
    "    \n",
    "    print(str(i) + \"/\" + str(len(prob_ws)-1))\n",
    "    print(\"Rewiring probability = \" + str(prob_ws[i]))\n",
    "    print(\"Average clustering = \" + str(avg_clust/norm_clust))\n",
    "    print(\"Average shortest path = \" + str(avg_short_lenght/norm_sp))\n",
    "    print(\"___________\")\n"
   ]
  },
  {
   "cell_type": "code",
   "execution_count": 8,
   "metadata": {
    "collapsed": false
   },
   "outputs": [
    {
     "data": {
      "image/png": "[encoded data removed]",
      "text/plain": [
       "<matplotlib.figure.Figure at 0xac1e898>"
      ]
     },
     "metadata": {},
     "output_type": "display_data"
    }
   ],
   "source": [
    "# making a pretty plot\n",
    "\n",
    "pl1, = plt.plot(prob_ws, clust, 'd')\n",
    "pl2, = plt.plot(prob_ws, sp_ws, 'p', label='l')\n",
    "plt.legend([pl1, pl2], ['Clustering coefficient','Shortest path'], loc='lower left')\n",
    "plt.xlabel('p')\n",
    "plt.xscale('log')\n",
    "plt.show()"
   ]
  },
  {
   "cell_type": "code",
   "execution_count": null,
   "metadata": {
    "collapsed": true
   },
   "outputs": [],
   "source": []
  }
 ],
 "metadata": {
  "anaconda-cloud": {},
  "kernelspec": {
   "display_name": "Python [default]",
   "language": "python",
   "name": "python2"
  },
  "language_info": {
   "codemirror_mode": {
    "name": "ipython",
    "version": 2
   },
   "file_extension": ".py",
   "mimetype": "text/x-python",
   "name": "python",
   "nbconvert_exporter": "python",
   "pygments_lexer": "ipython2",
   "version": "2.7.12"
  }
 },
 "nbformat": 4,
 "nbformat_minor": 0
}
